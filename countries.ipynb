{
 "cells": [
  {
   "cell_type": "code",
   "execution_count": 1,
   "metadata": {},
   "outputs": [
    {
     "data": {
      "text/plain": [
       "Countries hook: tables parsed (yes)"
      ]
     },
     "execution_count": 1,
     "metadata": {},
     "output_type": "execute_result"
    }
   ],
   "source": [
    "from src.hook.countries_hook import CountriesHook\n",
    "file_format = 'csv'\n",
    "hook = (CountriesHook()\n",
    "            .parse_countries()\n",
    "            .parse_tables()\n",
    "            .save_tables(file_format, destination='C:\\Git\\countries_dw\\src\\dbt\\seeds', index=False)\n",
    "        )\n",
    "hook "
   ]
  },
  {
   "cell_type": "code",
   "execution_count": 24,
   "metadata": {},
   "outputs": [
    {
     "ename": "IndexError",
     "evalue": "list index out of range",
     "output_type": "error",
     "traceback": [
      "\u001b[1;31m---------------------------------------------------------------------------\u001b[0m",
      "\u001b[1;31mIndexError\u001b[0m                                Traceback (most recent call last)",
      "Cell \u001b[1;32mIn[24], line 10\u001b[0m\n\u001b[0;32m      8\u001b[0m     \u001b[39m# return _dict\u001b[39;00m\n\u001b[0;32m      9\u001b[0m index \u001b[39m=\u001b[39m \u001b[39m25\u001b[39m\n\u001b[1;32m---> 10\u001b[0m \u001b[39mprint\u001b[39m(hook\u001b[39m.\u001b[39;49mtables[index])\n\u001b[0;32m     11\u001b[0m df \u001b[39m=\u001b[39m \u001b[39mgetattr\u001b[39m(hook, hook\u001b[39m.\u001b[39mtables[index])\n\u001b[0;32m     12\u001b[0m max_len_of_columns(df)\n",
      "\u001b[1;31mIndexError\u001b[0m: list index out of range"
     ]
    }
   ],
   "source": [
    "# hook.continents.continents.str.len().max()\n",
    "import numpy as np\n",
    "import pandas as pd\n",
    "def max_len_of_columns(df):\n",
    "    measurer = np.vectorize(len)\n",
    "    _dict = dict(zip(df.columns, measurer(df.values.astype(str)).max(axis=0)))\n",
    "    return pd.DataFrame([_dict])\n",
    "    # return _dict\n",
    "index = 25\n",
    "print(hook.tables[index])\n",
    "df = getattr(hook, hook.tables[index])\n",
    "max_len_of_columns(df)\n",
    "\n",
    "# df"
   ]
  },
  {
   "cell_type": "code",
   "execution_count": 18,
   "metadata": {},
   "outputs": [
    {
     "data": {
      "text/html": [
       "<div>\n",
       "<style scoped>\n",
       "    .dataframe tbody tr th:only-of-type {\n",
       "        vertical-align: middle;\n",
       "    }\n",
       "\n",
       "    .dataframe tbody tr th {\n",
       "        vertical-align: top;\n",
       "    }\n",
       "\n",
       "    .dataframe thead th {\n",
       "        text-align: right;\n",
       "    }\n",
       "</style>\n",
       "<table border=\"1\" class=\"dataframe\">\n",
       "  <thead>\n",
       "    <tr style=\"text-align: right;\">\n",
       "      <th></th>\n",
       "      <th>common_name</th>\n",
       "      <th>root</th>\n",
       "      <th>suffixes</th>\n",
       "    </tr>\n",
       "  </thead>\n",
       "  <tbody>\n",
       "    <tr>\n",
       "      <th>246</th>\n",
       "      <td>Puerto Rico</td>\n",
       "      <td>+1</td>\n",
       "      <td>787</td>\n",
       "    </tr>\n",
       "    <tr>\n",
       "      <th>246</th>\n",
       "      <td>Puerto Rico</td>\n",
       "      <td>+1</td>\n",
       "      <td>939</td>\n",
       "    </tr>\n",
       "  </tbody>\n",
       "</table>\n",
       "</div>"
      ],
      "text/plain": [
       "     common_name root suffixes\n",
       "246  Puerto Rico   +1      787\n",
       "246  Puerto Rico   +1      939"
      ]
     },
     "execution_count": 18,
     "metadata": {},
     "output_type": "execute_result"
    }
   ],
   "source": [
    "df.explode('suffixes').query('common_name == \"Puerto Rico\"')"
   ]
  }
 ],
 "metadata": {
  "kernelspec": {
   "display_name": "countries_dw",
   "language": "python",
   "name": "python3"
  },
  "language_info": {
   "codemirror_mode": {
    "name": "ipython",
    "version": 3
   },
   "file_extension": ".py",
   "mimetype": "text/x-python",
   "name": "python",
   "nbconvert_exporter": "python",
   "pygments_lexer": "ipython3",
   "version": "3.11.5"
  },
  "orig_nbformat": 4
 },
 "nbformat": 4,
 "nbformat_minor": 2
}
