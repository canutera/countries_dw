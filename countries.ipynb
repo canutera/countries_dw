{
 "cells": [
  {
   "cell_type": "code",
   "execution_count": 1,
   "metadata": {},
   "outputs": [
    {
     "data": {
      "text/plain": [
       "Countries hook: tables parsed (yes)"
      ]
     },
     "execution_count": 1,
     "metadata": {},
     "output_type": "execute_result"
    }
   ],
   "source": [
    "from src.hook.countries_hook import CountriesHook\n",
    "file_format = 'csv'\n",
    "hook = (CountriesHook()\n",
    "            .parse_countries()\n",
    "            .parse_tables()\n",
    "            .save_tables(file_format, destination='C:\\Git\\countries_dw\\src\\dbt\\seeds', index=False)\n",
    "        )\n",
    "hook "
   ]
  },
  {
   "cell_type": "code",
   "execution_count": 2,
   "metadata": {},
   "outputs": [
    {
     "name": "stdout",
     "output_type": "stream",
     "text": [
      "postal_codes\n"
     ]
    },
    {
     "data": {
      "text/html": [
       "<div>\n",
       "<style scoped>\n",
       "    .dataframe tbody tr th:only-of-type {\n",
       "        vertical-align: middle;\n",
       "    }\n",
       "\n",
       "    .dataframe tbody tr th {\n",
       "        vertical-align: top;\n",
       "    }\n",
       "\n",
       "    .dataframe thead th {\n",
       "        text-align: right;\n",
       "    }\n",
       "</style>\n",
       "<table border=\"1\" class=\"dataframe\">\n",
       "  <thead>\n",
       "    <tr style=\"text-align: right;\">\n",
       "      <th></th>\n",
       "      <th>common_name</th>\n",
       "      <th>format</th>\n",
       "      <th>regex</th>\n",
       "    </tr>\n",
       "  </thead>\n",
       "  <tbody>\n",
       "    <tr>\n",
       "      <th>0</th>\n",
       "      <td>South Africa</td>\n",
       "      <td>####</td>\n",
       "      <td>^(\\d{4})$</td>\n",
       "    </tr>\n",
       "    <tr>\n",
       "      <th>1</th>\n",
       "      <td>Monaco</td>\n",
       "      <td>#####</td>\n",
       "      <td>^(\\d{5})$</td>\n",
       "    </tr>\n",
       "    <tr>\n",
       "      <th>2</th>\n",
       "      <td>Guinea-Bissau</td>\n",
       "      <td>####</td>\n",
       "      <td>^(\\d{4})$</td>\n",
       "    </tr>\n",
       "    <tr>\n",
       "      <th>3</th>\n",
       "      <td>North Korea</td>\n",
       "      <td>###-###</td>\n",
       "      <td>^(\\d{6})$</td>\n",
       "    </tr>\n",
       "    <tr>\n",
       "      <th>4</th>\n",
       "      <td>Paraguay</td>\n",
       "      <td>####</td>\n",
       "      <td>^(\\d{4})$</td>\n",
       "    </tr>\n",
       "    <tr>\n",
       "      <th>...</th>\n",
       "      <td>...</td>\n",
       "      <td>...</td>\n",
       "      <td>...</td>\n",
       "    </tr>\n",
       "    <tr>\n",
       "      <th>144</th>\n",
       "      <td>Iraq</td>\n",
       "      <td>#####</td>\n",
       "      <td>^(\\d{5})$</td>\n",
       "    </tr>\n",
       "    <tr>\n",
       "      <th>145</th>\n",
       "      <td>South Korea</td>\n",
       "      <td>SEOUL ###-###</td>\n",
       "      <td>^(?:SEOUL)*(\\d{6})$</td>\n",
       "    </tr>\n",
       "    <tr>\n",
       "      <th>146</th>\n",
       "      <td>North Macedonia</td>\n",
       "      <td>####</td>\n",
       "      <td>^(\\d{4})$</td>\n",
       "    </tr>\n",
       "    <tr>\n",
       "      <th>147</th>\n",
       "      <td>Puerto Rico</td>\n",
       "      <td>#####-####</td>\n",
       "      <td>^(\\d{9})$</td>\n",
       "    </tr>\n",
       "    <tr>\n",
       "      <th>148</th>\n",
       "      <td>Ethiopia</td>\n",
       "      <td>####</td>\n",
       "      <td>^(\\d{4})$</td>\n",
       "    </tr>\n",
       "  </tbody>\n",
       "</table>\n",
       "<p>149 rows × 3 columns</p>\n",
       "</div>"
      ],
      "text/plain": [
       "         common_name         format                regex\n",
       "0       South Africa           ####            ^(\\d{4})$\n",
       "1             Monaco          #####            ^(\\d{5})$\n",
       "2      Guinea-Bissau           ####            ^(\\d{4})$\n",
       "3        North Korea        ###-###            ^(\\d{6})$\n",
       "4           Paraguay           ####            ^(\\d{4})$\n",
       "..               ...            ...                  ...\n",
       "144             Iraq          #####            ^(\\d{5})$\n",
       "145      South Korea  SEOUL ###-###  ^(?:SEOUL)*(\\d{6})$\n",
       "146  North Macedonia           ####            ^(\\d{4})$\n",
       "147      Puerto Rico     #####-####            ^(\\d{9})$\n",
       "148         Ethiopia           ####            ^(\\d{4})$\n",
       "\n",
       "[149 rows x 3 columns]"
      ]
     },
     "execution_count": 2,
     "metadata": {},
     "output_type": "execute_result"
    }
   ],
   "source": [
    "# hook.continents.continents.str.len().max()\n",
    "import numpy as np\n",
    "import pandas as pd\n",
    "def max_len_of_columns(df):\n",
    "    measurer = np.vectorize(len)\n",
    "    _dict = dict(zip(df.columns, measurer(df.values.astype(str)).max(axis=0)))\n",
    "    return pd.DataFrame([_dict])\n",
    "    # return _dict\n",
    "index = 24\n",
    "print(hook.tables[index])\n",
    "df = getattr(hook, hook.tables[index])\n",
    "max_len_of_columns(df)\n",
    "\n"
   ]
  }
 ],
 "metadata": {
  "kernelspec": {
   "display_name": "countries_dw",
   "language": "python",
   "name": "python3"
  },
  "language_info": {
   "codemirror_mode": {
    "name": "ipython",
    "version": 3
   },
   "file_extension": ".py",
   "mimetype": "text/x-python",
   "name": "python",
   "nbconvert_exporter": "python",
   "pygments_lexer": "ipython3",
   "version": "3.11.5"
  },
  "orig_nbformat": 4
 },
 "nbformat": 4,
 "nbformat_minor": 2
}
